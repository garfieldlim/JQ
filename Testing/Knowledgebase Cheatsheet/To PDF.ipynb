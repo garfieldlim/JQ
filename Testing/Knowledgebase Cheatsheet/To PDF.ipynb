{
 "cells": [
  {
   "cell_type": "code",
   "execution_count": 16,
   "id": "efe50a52",
   "metadata": {},
   "outputs": [
    {
     "name": "stdout",
     "output_type": "stream",
     "text": [
      "The PDF has been created at: milvus_text_data.pdf\n"
     ]
    }
   ],
   "source": [
    "from pymilvus import connections, Collection\n",
    "from fpdf import FPDF\n",
    "import re\n",
    "\n",
    "# Check if the default connection exists and remove it\n",
    "if connections.has_connection(\"default\"):\n",
    "    connections.remove_connection(\"default\")\n",
    "\n",
    "# Now, reconnect with your new configuration\n",
    "connections.connect(alias=\"default\", host=\"localhost\", port=\"19530\")\n",
    "\n",
    "# Specify the collection name\n",
    "collection_name = \"text_collection\"\n",
    "\n",
    "# Retrieve text data from 'text_collection'\n",
    "collection = Collection(name=collection_name)\n",
    "\n",
    "# Retrieve all the text data where the text field is not empty\n",
    "texts = collection.query(expr=\"text != ''\", output_fields=[\"text\"])\n",
    "\n",
    "# Format the text data\n",
    "formatted_text = \"\\n\".join([f\"{i+1}. {entry['text']}\" for i, entry in enumerate(texts)])\n",
    "\n",
    "# Create a PDF with the formatted text\n",
    "# Create a PDF with the formatted text\n",
    "pdf = FPDF()\n",
    "pdf.add_page()\n",
    "pdf.set_font(\"Arial\", size=10)\n",
    "\n",
    "# Define a regular expression pattern for ASCII characters\n",
    "ascii_pattern = re.compile(r'[\\x00-\\x7F]+')\n",
    "\n",
    "# Define a function to replace sequences of more than 10 repeating characters with just 10 of them\n",
    "def replace_repeating_characters(match):\n",
    "    character = match.group(0)[0]\n",
    "    return character * 5  # replace with 10 occurrences\n",
    "\n",
    "for i, entry in enumerate(texts):\n",
    "    # Filter out non-ASCII characters using the defined pattern\n",
    "    ascii_text = ' '.join(ascii_pattern.findall(entry['text']))\n",
    "    # Replace sequences of more than 10 repeating characters\n",
    "    ascii_text = re.sub(r'(.)\\1{10,}', replace_repeating_characters, ascii_text)\n",
    "\n",
    "    # Write the cleaned text to the PDF\n",
    "    pdf.multi_cell(0, 5, f\"{i+1}. {ascii_text}\")\n",
    "    pdf.ln(2)  # Add a small line break after the text for spacing\n",
    "\n",
    "    # Get the current Y position and draw a line\n",
    "    y_after_text = pdf.get_y()\n",
    "    pdf.line(10, y_after_text, 200, y_after_text)  # Draw a black line\n",
    "\n",
    "    # Add another small line break after the black line for spacing\n",
    "    pdf.ln(0.5)\n",
    "\n",
    "\n",
    "# Save the PDF to the current directory\n",
    "pdf_output_name = \"milvus_text_data.pdf\"\n",
    "pdf.output(pdf_output_name)\n",
    "\n",
    "\n",
    "\n",
    "\n",
    "\n",
    "# Output the path to the generated PDF\n",
    "print(f\"The PDF has been created at: {pdf_output_path}\")\n"
   ]
  },
  {
   "cell_type": "code",
   "execution_count": 2,
   "id": "9b6d9697",
   "metadata": {},
   "outputs": [
    {
     "name": "stdout",
     "output_type": "stream",
     "text": [
      "Collecting fpdf\n",
      "  Downloading fpdf-1.7.2.tar.gz (39 kB)\n",
      "  Preparing metadata (setup.py) ... \u001b[?25ldone\n",
      "\u001b[?25hBuilding wheels for collected packages: fpdf\n",
      "  Building wheel for fpdf (setup.py) ... \u001b[?25ldone\n",
      "\u001b[?25h  Created wheel for fpdf: filename=fpdf-1.7.2-py2.py3-none-any.whl size=40702 sha256=0edd8a2b43fa440933eb52aca55806af9673b90fe2c166373e0ec88708a64615\n",
      "  Stored in directory: /Users/garfieldgreglim/Library/Caches/pip/wheels/65/4f/66/bbda9866da446a72e206d6484cd97381cbc7859a7068541c36\n",
      "Successfully built fpdf\n",
      "Installing collected packages: fpdf\n",
      "Successfully installed fpdf-1.7.2\n",
      "Note: you may need to restart the kernel to use updated packages.\n"
     ]
    }
   ],
   "source": [
    "pip install fpdf"
   ]
  },
  {
   "cell_type": "code",
   "execution_count": null,
   "id": "6eb6987f",
   "metadata": {},
   "outputs": [],
   "source": []
  }
 ],
 "metadata": {
  "kernelspec": {
   "display_name": "Python 3 (ipykernel)",
   "language": "python",
   "name": "python3"
  },
  "language_info": {
   "codemirror_mode": {
    "name": "ipython",
    "version": 3
   },
   "file_extension": ".py",
   "mimetype": "text/x-python",
   "name": "python",
   "nbconvert_exporter": "python",
   "pygments_lexer": "ipython3",
   "version": "3.11.4"
  }
 },
 "nbformat": 4,
 "nbformat_minor": 5
}
