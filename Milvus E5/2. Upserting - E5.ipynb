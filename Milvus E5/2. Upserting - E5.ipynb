{
 "cells": [
  {
   "cell_type": "markdown",
   "id": "ae8e2a28",
   "metadata": {},
   "source": [
    "# INSTRUCTION:\n",
    "    change partition to documents first, run. next social_posts, run, then people, RUN!"
   ]
  },
  {
   "cell_type": "markdown",
   "id": "4260781b",
   "metadata": {},
   "source": [
    "Change partition to the folder name"
   ]
  },
  {
   "cell_type": "code",
   "execution_count": 11,
   "id": "6c26b865",
   "metadata": {
    "scrolled": true
   },
   "outputs": [],
   "source": [
    "import os\n",
    "import json\n",
    "\n",
    "# The directory where the files are stored\n",
    "partition = 'people'\n",
    "directory = f'{partition}'\n",
    "\n",
    "# A dictionary to store all collections\n",
    "collections = {}\n",
    "\n",
    "for filename in os.listdir(directory):\n",
    "    # Check if the file is a JSON file\n",
    "    if filename.endswith(\".json\"):\n",
    "        # Remove the .json extension\n",
    "        collection_name, _ = os.path.splitext(filename)\n",
    "        \n",
    "        filepath = os.path.join(directory, filename)\n",
    "        with open(filepath, 'r') as file:\n",
    "            collections[collection_name] = json.load(file)"
   ]
  },
  {
   "cell_type": "markdown",
   "id": "da93ed62",
   "metadata": {},
   "source": [
    "Checking collections"
   ]
  },
  {
   "cell_type": "code",
   "execution_count": 12,
   "id": "44c7b0eb",
   "metadata": {},
   "outputs": [
    {
     "name": "stdout",
     "output_type": "stream",
     "text": [
      "text_collection\n",
      "position_collection\n",
      "name_collection\n"
     ]
    }
   ],
   "source": [
    "for name in collections:\n",
    "    print(name)"
   ]
  },
  {
   "cell_type": "markdown",
   "id": "660afe34",
   "metadata": {},
   "source": [
    "Connection"
   ]
  },
  {
   "cell_type": "code",
   "execution_count": 13,
   "id": "b69ea7a3",
   "metadata": {},
   "outputs": [],
   "source": [
    "from pymilvus import connections, DataType, CollectionSchema, FieldSchema, Collection, Partition, utility\n",
    "import json\n",
    "# Check if the connection already exists\n",
    "if connections.has_connection('default'):\n",
    "    connections.remove_connection('default')  # Disconnect if it exists\n",
    "\n",
    "# Now, reconnect with your new configuration\n",
    "connections.connect(alias='default', host='localhost', port='19530')"
   ]
  },
  {
   "cell_type": "markdown",
   "id": "6d4a2e31",
   "metadata": {},
   "source": [
    "Checking length"
   ]
  },
  {
   "cell_type": "code",
   "execution_count": 14,
   "id": "fa0e88e7",
   "metadata": {},
   "outputs": [
    {
     "name": "stdout",
     "output_type": "stream",
     "text": [
      "text_collection 6\n",
      "position_collection 6\n",
      "name_collection 6\n"
     ]
    }
   ],
   "source": [
    "for name in collections:\n",
    "    print(name, len(collections[name]))"
   ]
  },
  {
   "cell_type": "markdown",
   "id": "aa5da85e",
   "metadata": {},
   "source": [
    "Upserting"
   ]
  },
  {
   "cell_type": "code",
   "execution_count": 15,
   "id": "09b622ad",
   "metadata": {
    "scrolled": true
   },
   "outputs": [
    {
     "name": "stdout",
     "output_type": "stream",
     "text": [
      "(insert count: 6, delete count: 0, upsert count: 0, timestamp: 447668714405625862, success count: 6, err count: 0)\n",
      "(insert count: 6, delete count: 0, upsert count: 0, timestamp: 447668714417422342, success count: 6, err count: 0)\n",
      "(insert count: 6, delete count: 0, upsert count: 0, timestamp: 447668714430529538, success count: 6, err count: 0)\n"
     ]
    }
   ],
   "source": [
    "for name in collections:\n",
    "    collection = Collection(f\"{name}\")\n",
    "    print(collection.insert(collections[name], f'{partition}_partition'))"
   ]
  }
 ],
 "metadata": {
  "kernelspec": {
   "display_name": "Python 3 (ipykernel)",
   "language": "python",
   "name": "python3"
  },
  "language_info": {
   "codemirror_mode": {
    "name": "ipython",
    "version": 3
   },
   "file_extension": ".py",
   "mimetype": "text/x-python",
   "name": "python",
   "nbconvert_exporter": "python",
   "pygments_lexer": "ipython3",
   "version": "3.11.4"
  }
 },
 "nbformat": 4,
 "nbformat_minor": 5
}
