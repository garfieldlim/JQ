{
 "cells": [
  {
   "cell_type": "code",
   "execution_count": 10,
   "id": "8da1d9f2",
   "metadata": {},
   "outputs": [],
   "source": [
    "# Check if the connection already exists\n",
    "if connections.has_connection('default'):\n",
    "    connections.remove_connection('default')  # Disconnect if it exists\n",
    "\n",
    "# Now, reconnect with your new configuration\n",
    "connections.connect(alias='default', host='localhost', port='19530')"
   ]
  },
  {
   "cell_type": "code",
   "execution_count": 14,
   "id": "2bec6f5d",
   "metadata": {},
   "outputs": [
    {
     "name": "stdout",
     "output_type": "stream",
     "text": [
      "{'auto_id': False, 'description': 'collection description of the collection: text_collection', 'fields': [{'name': 'uuid', 'description': '', 'type': <DataType.VARCHAR: 21>, 'params': {'max_length': 36}, 'is_primary': True, 'auto_id': False}, {'name': 'partition_name', 'description': '', 'type': <DataType.VARCHAR: 21>, 'params': {'max_length': 5000}}, {'name': 'embeds', 'description': '', 'type': <DataType.FLOAT_VECTOR: 101>, 'params': {'dim': 1024}}, {'name': 'text_id', 'description': '', 'type': <DataType.VARCHAR: 21>, 'params': {'max_length': 5000}}, {'name': 'text', 'description': '', 'type': <DataType.VARCHAR: 21>, 'params': {'max_length': 5000}}, {'name': 'media', 'description': '', 'type': <DataType.VARCHAR: 21>, 'params': {'max_length': 5000}}, {'name': 'link', 'description': '', 'type': <DataType.VARCHAR: 21>, 'params': {'max_length': 5000}}]}\n"
     ]
    }
   ],
   "source": [
    "print(collection.schema)\n"
   ]
  },
  {
   "cell_type": "code",
   "execution_count": 15,
   "id": "5f140639",
   "metadata": {
    "scrolled": true
   },
   "outputs": [
    {
     "name": "stdout",
     "output_type": "stream",
     "text": [
      "ID: 8c836938-f55f-4ffa-85c5-83bd64d83ed5, Distance: 0.534145712852478\n",
      "ID: 5fd1ed2c-0d20-4345-8aa2-a124bce10b8d, Distance: 0.5446814894676208\n",
      "ID: 5a8ce30b-8c7f-48ea-814f-54477bb0cbf5, Distance: 0.5455089807510376\n",
      "ID: fa515dc6-a86b-4ed3-b81c-0f79ae5a030f, Distance: 0.5479221940040588\n",
      "ID: 84866277-258e-4608-9e8e-68daa3f35997, Distance: 0.5485208034515381\n",
      "ID: 1c6dde47-9824-4f63-9419-2572460d4a50, Distance: 0.5494377613067627\n",
      "ID: cf710cef-40c0-4b09-9a5b-fd983b5b6f51, Distance: 0.5498582124710083\n",
      "ID: 4fbb619e-3b4f-41a6-9782-da73d020fad8, Distance: 0.5519993305206299\n",
      "ID: 28e065fb-bf33-450f-b0c7-c6c5db8a5de6, Distance: 0.5530645251274109\n",
      "ID: 82e98d1b-a55d-4a91-8080-7fcf8d98e127, Distance: 0.5535456538200378\n"
     ]
    }
   ],
   "source": [
    "from pymilvus import Collection, connections\n",
    "\n",
    "# Check if the connection already exists\n",
    "if connections.has_connection('default'):\n",
    "    connections.remove_connection('default')  # Disconnect if it exists\n",
    "\n",
    "# Now, reconnect with your new configuration\n",
    "connections.connect(alias='default', host='localhost', port='19530')\n",
    "\n",
    "collection_name = \"text_collection\"\n",
    "\n",
    "# Load the existing collection by its name\n",
    "collection = Collection(name=collection_name)\n",
    "\n",
    "# Load the collection into memory\n",
    "collection.load()\n",
    "\n",
    "query_text = 'Emiliano'\n",
    "query_embedding = embed_string(query_text)\n",
    "\n",
    "# Define the search parameters\n",
    "search_params = {\"metric_type\": \"L2\", \"params\": {\"nprobe\": 10}}\n",
    "\n",
    "# Perform the search\n",
    "results = collection.search([query_embedding], \"embeds\", param=search_params, limit=10)\n",
    "\n",
    "# Process the results\n",
    "for hit in results[0]:\n",
    "    print(f\"ID: {hit.id}, Distance: {hit.distance}\")\n"
   ]
  },
  {
   "cell_type": "code",
   "execution_count": 7,
   "id": "f921a72f",
   "metadata": {},
   "outputs": [],
   "source": [
    "import torch.nn.functional as F\n",
    "from torch import Tensor\n",
    "from transformers import AutoTokenizer, AutoModel\n",
    "\n",
    "def average_pool(last_hidden_states: Tensor, attention_mask: Tensor) -> Tensor:\n",
    "    last_hidden = last_hidden_states.masked_fill(~attention_mask[..., None].bool(), 0.0)\n",
    "    return last_hidden.sum(dim=1) / attention_mask.sum(dim=1)[..., None]\n",
    "\n",
    "def embed_string(text: str):\n",
    "    # Load the tokenizer and model\n",
    "    tokenizer = AutoTokenizer.from_pretrained('intfloat/e5-large-v2')\n",
    "    model = AutoModel.from_pretrained('intfloat/e5-large-v2')\n",
    "\n",
    "    # Prefix the text with 'query: '\n",
    "    text = 'query: ' + text\n",
    "\n",
    "    # Tokenize the input text\n",
    "    inputs = tokenizer(text, max_length=2000, padding=True, truncation=True, return_tensors='pt')\n",
    "\n",
    "    # Generate model outputs\n",
    "    outputs = model(**inputs)\n",
    "\n",
    "    # Average pool the last hidden states and apply the attention mask\n",
    "    embeddings = average_pool(outputs.last_hidden_state, inputs['attention_mask'])\n",
    "\n",
    "    # Normalize the embeddings\n",
    "    embeddings = F.normalize(embeddings, p=2, dim=1)\n",
    "\n",
    "    # Convert tensor to list\n",
    "    embeddings_list = embeddings.tolist()\n",
    "\n",
    "    return embeddings_list[0]"
   ]
  },
  {
   "cell_type": "code",
   "execution_count": null,
   "id": "d9c62a66",
   "metadata": {},
   "outputs": [],
   "source": []
  }
 ],
 "metadata": {
  "kernelspec": {
   "display_name": "Python 3 (ipykernel)",
   "language": "python",
   "name": "python3"
  },
  "language_info": {
   "codemirror_mode": {
    "name": "ipython",
    "version": 3
   },
   "file_extension": ".py",
   "mimetype": "text/x-python",
   "name": "python",
   "nbconvert_exporter": "python",
   "pygments_lexer": "ipython3",
   "version": "3.11.4"
  }
 },
 "nbformat": 4,
 "nbformat_minor": 5
}
