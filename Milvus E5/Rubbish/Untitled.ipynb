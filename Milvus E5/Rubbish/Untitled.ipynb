{
 "cells": [
  {
   "cell_type": "code",
   "execution_count": 1,
   "id": "b4e4920f",
   "metadata": {},
   "outputs": [
    {
     "ename": "ImportError",
     "evalue": "cannot import name 'DistilBertForSequenceClassification' from 'ane_transformers.huggingface' (/Users/garfieldgreglim/miniconda3/lib/python3.11/site-packages/ane_transformers/huggingface/__init__.py)",
     "output_type": "error",
     "traceback": [
      "\u001b[0;31m---------------------------------------------------------------------------\u001b[0m",
      "\u001b[0;31mImportError\u001b[0m                               Traceback (most recent call last)",
      "Cell \u001b[0;32mIn[1], line 10\u001b[0m\n\u001b[1;32m      3\u001b[0m baseline_model \u001b[38;5;241m=\u001b[39m transformers\u001b[38;5;241m.\u001b[39mAutoModel\u001b[38;5;241m.\u001b[39mfrom_pretrained(\n\u001b[1;32m      4\u001b[0m     model_name,\n\u001b[1;32m      5\u001b[0m     return_dict\u001b[38;5;241m=\u001b[39m\u001b[38;5;28;01mFalse\u001b[39;00m,\n\u001b[1;32m      6\u001b[0m     torchscript\u001b[38;5;241m=\u001b[39m\u001b[38;5;28;01mTrue\u001b[39;00m,\n\u001b[1;32m      7\u001b[0m )\u001b[38;5;241m.\u001b[39meval()\n\u001b[1;32m      9\u001b[0m \u001b[38;5;66;03m# Replace this with the corresponding class in ane_transformers for E5-Large\u001b[39;00m\n\u001b[0;32m---> 10\u001b[0m \u001b[38;5;28;01mfrom\u001b[39;00m \u001b[38;5;21;01mane_transformers\u001b[39;00m\u001b[38;5;21;01m.\u001b[39;00m\u001b[38;5;21;01mhuggingface\u001b[39;00m \u001b[38;5;28;01mimport\u001b[39;00m DistilBertForSequenceClassification \u001b[38;5;28;01mas\u001b[39;00m OptimizedModel\n\u001b[1;32m     11\u001b[0m optimized_model \u001b[38;5;241m=\u001b[39m OptimizedModel(\n\u001b[1;32m     12\u001b[0m     baseline_model\u001b[38;5;241m.\u001b[39mconfig)\u001b[38;5;241m.\u001b[39meval()\n\u001b[1;32m     13\u001b[0m optimized_model\u001b[38;5;241m.\u001b[39mload_state_dict(baseline_model\u001b[38;5;241m.\u001b[39mstate_dict())\n",
      "\u001b[0;31mImportError\u001b[0m: cannot import name 'DistilBertForSequenceClassification' from 'ane_transformers.huggingface' (/Users/garfieldgreglim/miniconda3/lib/python3.11/site-packages/ane_transformers/huggingface/__init__.py)"
     ]
    }
   ],
   "source": [
    "import transformers\n",
    "model_name = \"intfloat/e5-large-v2\"  # replace with your E5-Large model name\n",
    "baseline_model = transformers.AutoModel.from_pretrained(\n",
    "    model_name,\n",
    "    return_dict=False,\n",
    "    torchscript=True,\n",
    ").eval()\n",
    "\n",
    "# Replace this with the corresponding class in ane_transformers for E5-Large\n",
    "from ane_transformers.huggingface import DistilBertForSequenceClassification as OptimizedModel\n",
    "optimized_model = OptimizedModel(\n",
    "    baseline_model.config).eval()\n",
    "optimized_model.load_state_dict(baseline_model.state_dict())\n",
    "\n",
    "tokenizer = transformers.AutoTokenizer.from_pretrained(model_name)\n",
    "tokenized = tokenizer(\n",
    "    [\"Sample input text to trace the model\"],\n",
    "    return_tensors=\"pt\",\n",
    "    max_length=128,  # token sequence length\n",
    "    padding=\"max_length\",\n",
    ")\n",
    "\n",
    "import torch\n",
    "traced_optimized_model = torch.jit.trace(\n",
    "    optimized_model,\n",
    "    (tokenized[\"input_ids\"], tokenized[\"attention_mask\"])\n",
    ")\n",
    "\n",
    "import coremltools as ct\n",
    "import numpy as np\n",
    "ane_mlpackage_obj = ct.convert(\n",
    "    traced_optimized_model,\n",
    "    convert_to=\"mlprogram\",\n",
    "    inputs=[\n",
    "        ct.TensorType(\n",
    "                f\"input_{name}\",\n",
    "                    shape=tensor.shape,\n",
    "                    dtype=np.int32,\n",
    "                ) for name, tensor in tokenized.items()\n",
    "            ],\n",
    "            compute_units=ct.ComputeUnit.ALL,\n",
    ")\n",
    "out_path = \"HuggingFace_ane_transformers_E5Large_seqLen128_batchSize1.mlpackage\"\n",
    "ane_mlpackage_obj.save(out_path)\n"
   ]
  },
  {
   "cell_type": "code",
   "execution_count": null,
   "id": "9b6ecff7",
   "metadata": {},
   "outputs": [],
   "source": []
  }
 ],
 "metadata": {
  "kernelspec": {
   "display_name": "Python 3 (ipykernel)",
   "language": "python",
   "name": "python3"
  },
  "language_info": {
   "codemirror_mode": {
    "name": "ipython",
    "version": 3
   },
   "file_extension": ".py",
   "mimetype": "text/x-python",
   "name": "python",
   "nbconvert_exporter": "python",
   "pygments_lexer": "ipython3",
   "version": "3.11.4"
  }
 },
 "nbformat": 4,
 "nbformat_minor": 5
}
