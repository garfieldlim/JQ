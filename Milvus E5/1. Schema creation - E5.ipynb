{
 "cells": [
  {
   "cell_type": "markdown",
   "id": "06b88448",
   "metadata": {},
   "source": [
    "# INSTRUCTION: Just run"
   ]
  },
  {
   "cell_type": "markdown",
   "id": "90a965b5",
   "metadata": {},
   "source": [
    "Imports"
   ]
  },
  {
   "cell_type": "code",
   "execution_count": 2,
   "id": "de3aee87",
   "metadata": {},
   "outputs": [],
   "source": [
    "from pymilvus import connections, DataType, CollectionSchema, FieldSchema, Collection, Partition, utility"
   ]
  },
  {
   "cell_type": "markdown",
   "id": "2f704310",
   "metadata": {},
   "source": [
    "Connection"
   ]
  },
  {
   "cell_type": "code",
   "execution_count": 3,
   "id": "e584b094",
   "metadata": {},
   "outputs": [],
   "source": [
    "# Check if the connection already exists\n",
    "if connections.has_connection('default'):\n",
    "    connections.remove_connection('default')  # Disconnect if it exists\n",
    "\n",
    "# Now, reconnect with your new configuration\n",
    "connections.connect(alias='default', host='localhost', port='19530')"
   ]
  },
  {
   "cell_type": "markdown",
   "id": "4e449920",
   "metadata": {},
   "source": [
    "Dropping"
   ]
  },
  {
   "cell_type": "code",
   "execution_count": 4,
   "id": "1099d81e",
   "metadata": {},
   "outputs": [
    {
     "data": {
      "text/plain": [
       "[]"
      ]
     },
     "execution_count": 4,
     "metadata": {},
     "output_type": "execute_result"
    }
   ],
   "source": [
    "for name in collection_names:\n",
    "    try:\n",
    "        utility.drop_collection(f\"{name}\")\n",
    "    except Exception as e:\n",
    "        print(f\"Unable to drop collection {name}: {str(e)}\")\n",
    "\n",
    "utility.list_collections()"
   ]
  },
  {
   "cell_type": "markdown",
   "id": "d90ba096",
   "metadata": {},
   "source": [
    "Collection creation"
   ]
  },
  {
   "cell_type": "code",
   "execution_count": 5,
   "id": "7f0b3e6c",
   "metadata": {},
   "outputs": [],
   "source": [
    "collection_names = {\n",
    "    'text_collection': ['uuid', 'text_id', 'text', 'embeds', 'media', 'link', 'partition_name'],\n",
    "    'author_collection': ['uuid', 'author', 'embeds', 'partition_name'],\n",
    "    'title_collection': ['uuid', 'title', 'embeds', 'partition_name'],\n",
    "    'date_collection': ['uuid', 'date', 'embeds', 'partition_name'],\n",
    "    'contact_collection': ['uuid', 'contact', 'embeds', 'partition_name'],\n",
    "    'name_collection': ['uuid', 'name', 'embeds', 'partition_name'],\n",
    "    'position_collection': ['uuid', 'position', 'embeds', 'partition_name'],\n",
    "    'department_collection': ['uuid', 'department', 'embeds', 'partition_name'],\n",
    "}"
   ]
  },
  {
   "cell_type": "code",
   "execution_count": 6,
   "id": "212d5e00",
   "metadata": {},
   "outputs": [],
   "source": [
    "collections = {}\n",
    "\n",
    "for name, fields in collection_names.items():\n",
    "    dimension = 1024\n",
    "    field_schemas = [\n",
    "        FieldSchema(name=\"uuid\", dtype=DataType.VARCHAR, is_primary=True, max_length=36),\n",
    "            FieldSchema(\"partition_name\", dtype=DataType.VARCHAR, max_length=5000),\n",
    "            FieldSchema(name=\"embeds\", dtype=DataType.FLOAT_VECTOR, dim=dimension)\n",
    "    ]\n",
    "    for field in fields:\n",
    "        if field not in [\"uuid\", \"embeds\", \"partition_name\"]:  # these fields have already been added\n",
    "            field_schemas.append(FieldSchema(name=field, dtype=DataType.VARCHAR, max_length=5000))\n",
    "\n",
    "    schema = CollectionSchema(fields=field_schemas, description=f\"collection description of the collection: {name}\")\n",
    "\n",
    "    collections[name] = Collection(name=name, schema=schema)\n"
   ]
  },
  {
   "cell_type": "code",
   "execution_count": 7,
   "id": "367780f6",
   "metadata": {
    "scrolled": true
   },
   "outputs": [
    {
     "data": {
      "text/plain": [
       "['author_collection',\n",
       " 'title_collection',\n",
       " 'date_collection',\n",
       " 'contact_collection',\n",
       " 'name_collection',\n",
       " 'position_collection',\n",
       " 'department_collection',\n",
       " 'text_collection']"
      ]
     },
     "execution_count": 7,
     "metadata": {},
     "output_type": "execute_result"
    }
   ],
   "source": [
    "utility.list_collections()"
   ]
  },
  {
   "cell_type": "markdown",
   "id": "7e4388de",
   "metadata": {},
   "source": [
    "Partition creation"
   ]
  },
  {
   "cell_type": "code",
   "execution_count": 8,
   "id": "c1fd0df2",
   "metadata": {},
   "outputs": [],
   "source": [
    "partitions = {\n",
    "    \"documents_partition\": [\"text_collection\", \"author_collection\", \"title_collection\", \"date_collection\"],\n",
    "    \"social_posts_partition\": [\"text_collection\", \"date_collection\"],\n",
    "    \"contacts_partition\": [\"name_collection\", \"text_collection\", \"contact_collection\", \"department_collection\"],\n",
    "    \"people_partition\": [\"text_collection\",\"name_collection\",\"position_collection\",\"department_collection\"]\n",
    "}"
   ]
  },
  {
   "cell_type": "code",
   "execution_count": 9,
   "id": "ddf2d9cf",
   "metadata": {
    "scrolled": true
   },
   "outputs": [],
   "source": [
    "for partition_name, collection_names in partitions.items():\n",
    "    for collection_name in collection_names:\n",
    "        collection = collections[collection_name]\n",
    "        collection.create_partition(partition_name)\n"
   ]
  },
  {
   "cell_type": "markdown",
   "id": "72418b86",
   "metadata": {},
   "source": [
    "Collection list"
   ]
  },
  {
   "cell_type": "code",
   "execution_count": 10,
   "id": "cf3bbd8b",
   "metadata": {
    "scrolled": true
   },
   "outputs": [
    {
     "data": {
      "text/plain": [
       "['contact_collection',\n",
       " 'name_collection',\n",
       " 'position_collection',\n",
       " 'department_collection',\n",
       " 'text_collection',\n",
       " 'author_collection',\n",
       " 'title_collection',\n",
       " 'date_collection']"
      ]
     },
     "execution_count": 10,
     "metadata": {},
     "output_type": "execute_result"
    }
   ],
   "source": [
    "utility.list_collections()"
   ]
  },
  {
   "cell_type": "markdown",
   "id": "6282fe78",
   "metadata": {},
   "source": [
    "Partition list"
   ]
  },
  {
   "cell_type": "code",
   "execution_count": 11,
   "id": "40e72e97",
   "metadata": {},
   "outputs": [
    {
     "data": {
      "text/plain": [
       "[{\"name\": \"_default\", \"collection_name\": \"text_collection\", \"description\": \"\"},\n",
       " {\"name\": \"documents_partition\", \"collection_name\": \"text_collection\", \"description\": \"\"},\n",
       " {\"name\": \"social_posts_partition\", \"collection_name\": \"text_collection\", \"description\": \"\"},\n",
       " {\"name\": \"contacts_partition\", \"collection_name\": \"text_collection\", \"description\": \"\"},\n",
       " {\"name\": \"people_partition\", \"collection_name\": \"text_collection\", \"description\": \"\"}]"
      ]
     },
     "metadata": {},
     "output_type": "display_data"
    },
    {
     "data": {
      "text/plain": [
       "[{\"name\": \"_default\", \"collection_name\": \"author_collection\", \"description\": \"\"},\n",
       " {\"name\": \"documents_partition\", \"collection_name\": \"author_collection\", \"description\": \"\"}]"
      ]
     },
     "metadata": {},
     "output_type": "display_data"
    },
    {
     "data": {
      "text/plain": [
       "[{\"name\": \"_default\", \"collection_name\": \"title_collection\", \"description\": \"\"},\n",
       " {\"name\": \"documents_partition\", \"collection_name\": \"title_collection\", \"description\": \"\"}]"
      ]
     },
     "metadata": {},
     "output_type": "display_data"
    },
    {
     "data": {
      "text/plain": [
       "[{\"name\": \"_default\", \"collection_name\": \"date_collection\", \"description\": \"\"},\n",
       " {\"name\": \"documents_partition\", \"collection_name\": \"date_collection\", \"description\": \"\"},\n",
       " {\"name\": \"social_posts_partition\", \"collection_name\": \"date_collection\", \"description\": \"\"}]"
      ]
     },
     "metadata": {},
     "output_type": "display_data"
    },
    {
     "data": {
      "text/plain": [
       "[{\"name\": \"_default\", \"collection_name\": \"contact_collection\", \"description\": \"\"},\n",
       " {\"name\": \"contacts_partition\", \"collection_name\": \"contact_collection\", \"description\": \"\"}]"
      ]
     },
     "metadata": {},
     "output_type": "display_data"
    },
    {
     "data": {
      "text/plain": [
       "[{\"name\": \"_default\", \"collection_name\": \"name_collection\", \"description\": \"\"},\n",
       " {\"name\": \"contacts_partition\", \"collection_name\": \"name_collection\", \"description\": \"\"},\n",
       " {\"name\": \"people_partition\", \"collection_name\": \"name_collection\", \"description\": \"\"}]"
      ]
     },
     "metadata": {},
     "output_type": "display_data"
    },
    {
     "data": {
      "text/plain": [
       "[{\"name\": \"_default\", \"collection_name\": \"position_collection\", \"description\": \"\"},\n",
       " {\"name\": \"people_partition\", \"collection_name\": \"position_collection\", \"description\": \"\"}]"
      ]
     },
     "metadata": {},
     "output_type": "display_data"
    },
    {
     "data": {
      "text/plain": [
       "[{\"name\": \"_default\", \"collection_name\": \"department_collection\", \"description\": \"\"},\n",
       " {\"name\": \"contacts_partition\", \"collection_name\": \"department_collection\", \"description\": \"\"},\n",
       " {\"name\": \"people_partition\", \"collection_name\": \"department_collection\", \"description\": \"\"}]"
      ]
     },
     "metadata": {},
     "output_type": "display_data"
    }
   ],
   "source": [
    "for collection in collections.values():\n",
    "    display(collection.partitions)"
   ]
  },
  {
   "cell_type": "code",
   "execution_count": 12,
   "id": "62b583bc",
   "metadata": {},
   "outputs": [],
   "source": [
    "index_params = {\n",
    "  \"metric_type\": \"L2\", # Euclidean distance\n",
    "  \"index_type\": \"FLAT\", # FLAT index type\n",
    "  \"params\": {} # No additional parameters needed for FLAT\n",
    "}\n",
    "for collection in collections.values():\n",
    "    collection.create_index(\"embeds\", index_params)"
   ]
  }
 ],
 "metadata": {
  "kernelspec": {
   "display_name": "Python 3 (ipykernel)",
   "language": "python",
   "name": "python3"
  },
  "language_info": {
   "codemirror_mode": {
    "name": "ipython",
    "version": 3
   },
   "file_extension": ".py",
   "mimetype": "text/x-python",
   "name": "python",
   "nbconvert_exporter": "python",
   "pygments_lexer": "ipython3",
   "version": "3.9.13"
  }
 },
 "nbformat": 4,
 "nbformat_minor": 5
}
