{
 "cells": [
  {
   "cell_type": "markdown",
   "id": "ae8e2a28",
   "metadata": {},
   "source": [
    "# INSTRUCTION:\n",
    "    change partition to documents first, run. next social_posts, run, then people, RUN!"
   ]
  },
  {
   "cell_type": "markdown",
   "id": "4260781b",
   "metadata": {},
   "source": [
    "Change partition to the folder name"
   ]
  },
  {
   "cell_type": "code",
   "execution_count": 1,
   "id": "6c26b865",
   "metadata": {
    "scrolled": true
   },
   "outputs": [],
   "source": [
    "import os\n",
    "import json\n",
    "\n",
    "# The directory where the files are stored\n",
    "partition = 'social_posts'\n",
    "directory = f'{partition}'\n",
    "\n",
    "# A dictionary to store all collections\n",
    "collections = {}\n",
    "\n",
    "for filename in os.listdir(directory):\n",
    "    # Check if the file is a JSON file\n",
    "    if filename.endswith(\".json\"):\n",
    "        # Remove the .json extension\n",
    "        collection_name, _ = os.path.splitext(filename)\n",
    "        \n",
    "        filepath = os.path.join(directory, filename)\n",
    "        with open(filepath, 'r') as file:\n",
    "            collections[collection_name] = json.load(file)"
   ]
  },
  {
   "cell_type": "markdown",
   "id": "da93ed62",
   "metadata": {},
   "source": [
    "Checking collections"
   ]
  },
  {
   "cell_type": "code",
   "execution_count": 2,
   "id": "44c7b0eb",
   "metadata": {},
   "outputs": [
    {
     "name": "stdout",
     "output_type": "stream",
     "text": [
      "text_collection\n",
      "date_collection\n"
     ]
    }
   ],
   "source": [
    "for name in collections:\n",
    "    print(name)"
   ]
  },
  {
   "cell_type": "markdown",
   "id": "660afe34",
   "metadata": {},
   "source": [
    "Connection"
   ]
  },
  {
   "cell_type": "code",
   "execution_count": 3,
   "id": "b69ea7a3",
   "metadata": {},
   "outputs": [],
   "source": [
    "from pymilvus import connections, DataType, CollectionSchema, FieldSchema, Collection, Partition, utility\n",
    "import json\n",
    "# Check if the connection already exists\n",
    "if connections.has_connection('default'):\n",
    "    connections.remove_connection('default')  # Disconnect if it exists\n",
    "\n",
    "# Now, reconnect with your new configuration\n",
    "connections.connect(alias='default', host='localhost', port='19530')"
   ]
  },
  {
   "cell_type": "markdown",
   "id": "6d4a2e31",
   "metadata": {},
   "source": [
    "Checking length"
   ]
  },
  {
   "cell_type": "code",
   "execution_count": 4,
   "id": "fa0e88e7",
   "metadata": {},
   "outputs": [
    {
     "name": "stdout",
     "output_type": "stream",
     "text": [
      "text_collection 96\n",
      "date_collection 244\n"
     ]
    }
   ],
   "source": [
    "for name in collections:\n",
    "    print(name, len(collections[name]))"
   ]
  },
  {
   "cell_type": "markdown",
   "id": "aa5da85e",
   "metadata": {},
   "source": [
    "Upserting"
   ]
  },
  {
   "cell_type": "code",
   "execution_count": 5,
   "id": "09b622ad",
   "metadata": {
    "scrolled": true
   },
   "outputs": [
    {
     "name": "stdout",
     "output_type": "stream",
     "text": [
      "(insert count: 96, delete count: 0, upsert count: 0, timestamp: 443236218625851395, success count: 96, err count: 0)\n",
      "(insert count: 244, delete count: 0, upsert count: 0, timestamp: 443236218691125250, success count: 244, err count: 0)\n"
     ]
    }
   ],
   "source": [
    "for name in collections:\n",
    "    collection = Collection(f\"{name}\")\n",
    "    print(collection.insert(collections[name], f'{partition}_partition'))"
   ]
  },
  {
   "cell_type": "code",
   "execution_count": null,
   "id": "222f8411",
   "metadata": {},
   "outputs": [],
   "source": []
  }
 ],
 "metadata": {
  "kernelspec": {
   "display_name": "Python 3 (ipykernel)",
   "language": "python",
   "name": "python3"
  },
  "language_info": {
   "codemirror_mode": {
    "name": "ipython",
    "version": 3
   },
   "file_extension": ".py",
   "mimetype": "text/x-python",
   "name": "python",
   "nbconvert_exporter": "python",
   "pygments_lexer": "ipython3",
   "version": "3.11.4"
  }
 },
 "nbformat": 4,
 "nbformat_minor": 5
}
