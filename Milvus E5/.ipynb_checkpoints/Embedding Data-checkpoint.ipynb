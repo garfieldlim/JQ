{
 "cells": [
  {
   "cell_type": "code",
   "execution_count": 6,
   "id": "d535edee",
   "metadata": {},
   "outputs": [],
   "source": [
    "import json\n",
    "import os\n",
    "folder_path = \"documents\"  # Replace this with the actual path to your folder\n",
    "\n",
    "def load_json_files_into_dictionary(folder_path):\n",
    "    data_dict = {}\n",
    "    for filename in os.listdir(folder_path):\n",
    "        if filename.endswith(\".json\"):\n",
    "            file_path = os.path.join(folder_path, filename)\n",
    "            with open(file_path, 'r') as file:\n",
    "                try:\n",
    "                    data = json.load(file)\n",
    "                    data_dict[filename] = data\n",
    "                except json.JSONDecodeError:\n",
    "                    print(f\"Error: Failed to load JSON from file '{filename}'. Skipping this file.\")\n",
    "    return data_dict"
   ]
  },
  {
   "cell_type": "code",
   "execution_count": 7,
   "id": "e596a69c",
   "metadata": {},
   "outputs": [],
   "source": [
    "json_data_dict = load_json_files_into_dictionary(folder_path)"
   ]
  },
  {
   "cell_type": "code",
   "execution_count": 8,
   "id": "73cfad3e",
   "metadata": {},
   "outputs": [
    {
     "name": "stdout",
     "output_type": "stream",
     "text": [
      "text_collection.json\n",
      "title_collection.json\n",
      "author_collection.json\n",
      "date_collection.json\n"
     ]
    }
   ],
   "source": [
    "for name in json_data_dict:\n",
    "    print(name)"
   ]
  },
  {
   "cell_type": "code",
   "execution_count": null,
   "id": "165eed15",
   "metadata": {},
   "outputs": [],
   "source": []
  }
 ],
 "metadata": {
  "kernelspec": {
   "display_name": "Python 3 (ipykernel)",
   "language": "python",
   "name": "python3"
  },
  "language_info": {
   "codemirror_mode": {
    "name": "ipython",
    "version": 3
   },
   "file_extension": ".py",
   "mimetype": "text/x-python",
   "name": "python",
   "nbconvert_exporter": "python",
   "pygments_lexer": "ipython3",
   "version": "3.11.4"
  }
 },
 "nbformat": 4,
 "nbformat_minor": 5
}
