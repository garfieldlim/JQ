{
 "cells": [
  {
   "cell_type": "markdown",
   "id": "be1deacd",
   "metadata": {},
   "source": [
    "Collections dictionary"
   ]
  },
  {
   "cell_type": "code",
   "execution_count": 4,
   "id": "81dc03d8",
   "metadata": {},
   "outputs": [],
   "source": [
    "collection_names = {\n",
    "    'text_collection': ['uuid', 'text_id', 'text', 'embeds', 'media', 'link', 'partition_name'],\n",
    "    'author_collection': ['uuid', 'author', 'embeds', 'partition_name'],\n",
    "    'title_collection': ['uuid', 'title', 'embeds', 'partition_name'],\n",
    "    'date_collection': ['uuid', 'date', 'embeds', 'partition_name'],\n",
    "    'contact_collection': ['uuid', 'contact', 'embeds', 'partition_name'],\n",
    "    'name_collection': ['uuid', 'name', 'embeds', 'partition_name'],\n",
    "    'position_collection': ['uuid', 'position', 'embeds', 'partition_name'],\n",
    "    'department_collection': ['uuid', 'department', 'embeds', 'partition_name'],\n",
    "}"
   ]
  },
  {
   "cell_type": "markdown",
   "id": "fc632286",
   "metadata": {},
   "source": [
    "Partitions dictionary"
   ]
  },
  {
   "cell_type": "code",
   "execution_count": null,
   "id": "ebee86ea",
   "metadata": {},
   "outputs": [],
   "source": [
    "partitions = {\n",
    "    \"documents_partition\": [\"text_collection\", \"author_collection\", \"title_collection\", \"date_collection\"],\n",
    "    \"social_posts_partition\": [\"text_collection\", \"date_collection\"],\n",
    "    \"contacts_partition\": [\"name_collection\", \"text_collection\", \"contact_collection\", \"department_collection\"],\n",
    "    \"people_partition\": [\"text_collection\",\"name_collection\",\"position_collection\",\"department_collection\"]\n",
    "}"
   ]
  },
  {
   "cell_type": "code",
   "execution_count": 7,
   "id": "47530c44",
   "metadata": {},
   "outputs": [],
   "source": [
    "partition_name = 'INSERT PARTITION NAME HERe'"
   ]
  },
  {
   "cell_type": "markdown",
   "id": "2a82a1df",
   "metadata": {},
   "source": [
    "Loading"
   ]
  },
  {
   "cell_type": "code",
   "execution_count": null,
   "id": "8a1520a2",
   "metadata": {},
   "outputs": [],
   "source": [
    "json_path = \"json_per_collection/\" \n",
    "def open_json(filename):\n",
    "    with open(filename + \".json\") as file:\n",
    "        return json.load(file)\n",
    "\n",
    "obj_list = {}\n",
    "for name in collection_names:\n",
    "    obj_list[name] = open_json(json_path + f\"{partition_name}_{name}\")"
   ]
  },
  {
   "cell_type": "markdown",
   "id": "bac1c58d",
   "metadata": {},
   "source": [
    "Upsertion"
   ]
  },
  {
   "cell_type": "code",
   "execution_count": null,
   "id": "1a32719f",
   "metadata": {},
   "outputs": [],
   "source": [
    "for name in collection_names:\n",
    "    collection = Collection(f\"{name}_collection\")\n",
    "    print(collection.insert(obj_list[name], partition_name=f\"{partition_name}_partition\"))"
   ]
  }
 ],
 "metadata": {
  "kernelspec": {
   "display_name": "Python 3 (ipykernel)",
   "language": "python",
   "name": "python3"
  },
  "language_info": {
   "codemirror_mode": {
    "name": "ipython",
    "version": 3
   },
   "file_extension": ".py",
   "mimetype": "text/x-python",
   "name": "python",
   "nbconvert_exporter": "python",
   "pygments_lexer": "ipython3",
   "version": "3.11.4"
  }
 },
 "nbformat": 4,
 "nbformat_minor": 5
}
