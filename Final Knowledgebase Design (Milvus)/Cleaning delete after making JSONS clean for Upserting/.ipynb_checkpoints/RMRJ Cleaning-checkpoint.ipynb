{
 "cells": [
  {
   "cell_type": "markdown",
   "id": "39155d35",
   "metadata": {},
   "source": [
    "Reading"
   ]
  },
  {
   "cell_type": "code",
   "execution_count": 2,
   "id": "676518d6",
   "metadata": {},
   "outputs": [],
   "source": [
    "import pandas as pd\n",
    "\n",
    "# Read the CSV file\n",
    "data = pd.read_csv('combined-rmrj-articles.csv')\n",
    "data.rename(columns=lambda x: x.lower(), inplace=True)\n",
    "\n",
    "# If you want to convert it into a list of dictionaries (one for each row)\n",
    "data_dict = data.to_dict('records')\n",
    "data = data_dict"
   ]
  },
  {
   "cell_type": "markdown",
   "id": "ee55313f",
   "metadata": {},
   "source": [
    "To obj_list"
   ]
  },
  {
   "cell_type": "code",
   "execution_count": 3,
   "id": "960e2abc",
   "metadata": {},
   "outputs": [],
   "source": [
    "import uuid\n",
    "\n",
    "# Function to generate UUID\n",
    "def generate_uuid():\n",
    "    return str(uuid.uuid4())\n",
    "\n",
    "# Function to generate embeddings (if needed)\n",
    "# This function is just a placeholder and should be replaced with actual embedding logic.\n",
    "def generate_embeddings(text):\n",
    "    return None\n",
    "\n",
    "# Add all your data items here\n",
    "\n",
    "# Lists to store dictionaries for each item\n",
    "rmrj_text_collection = []\n",
    "rmrj_title_collection = []\n",
    "rmrj_author_collection = []\n",
    "rmrj_date_collection = []\n",
    "\n",
    "# Loop through each item in data\n",
    "for item in data:\n",
    "    # Create dictionaries\n",
    "    rmrj_text = {\n",
    "        'text_id': item['id'],\n",
    "        'text': item['abstract'],\n",
    "        'embeds': None,\n",
    "        'media': None,\n",
    "        'link': item['link'],\n",
    "        'partition_name': 'rmrj_articles'\n",
    "    }\n",
    "    rmrj_text_collection.append(rmrj_text)\n",
    "\n",
    "    rmrj_title = {\n",
    "        'uuid': item['id'],\n",
    "        'title': item['title'],\n",
    "        'embeds': None,\n",
    "        'partition_name': 'rmrj_articles'\n",
    "    }\n",
    "    rmrj_title_collection.append(rmrj_title)\n",
    "\n",
    "    rmrj_author = {\n",
    "        'uuid': item['id'],\n",
    "        'author': item['author'],\n",
    "        'embeds': None,\n",
    "        'partition_name': 'rmrj_articles'\n",
    "    }\n",
    "    rmrj_author_collection.append(rmrj_author)\n",
    "\n",
    "    rmrj_date = {\n",
    "        'uuid': item['id'],\n",
    "        'date': item['published date'],\n",
    "        'embeds': None,\n",
    "        'partition_name': 'rmrj_articles'\n",
    "    }\n",
    "    rmrj_date_collection.append(rmrj_date)\n",
    "\n",
    "all_collections = {\n",
    "    'text': rmrj_text_collection,\n",
    "    'title': rmrj_title_collection,\n",
    "    'author': rmrj_author_collection,\n",
    "    'date': rmrj_date_collection\n",
    "}\n"
   ]
  },
  {
   "cell_type": "code",
   "execution_count": 4,
   "id": "262ab4c8",
   "metadata": {},
   "outputs": [
    {
     "data": {
      "text/plain": [
       "{'text_id': '111553fe-23fc-45e4-ad46-0c56b61aee0e',\n",
       " 'text': 'St. John\\'s Gospel begins with a prologue, serving as an overture to the whole Gospel. This paper investigates the philosophical notions embedded in the first three lines of John 1:1. The inquiry focuses on whether or not the accepted meaning of this line as \"indicating timeless existence\" can be deduced from John 1:1 and whether or not John 1:1 also indicates the meaning of the \"principle of creation.\" This paper proceeds to make this inquiry in the following order: Introduction; The questions arising in John 1:1; Word as God is eternal, outside time; \"In the beginning\" as predicate; \"The Word was in the beginning\"; Timeless existence and the verb was; The Word as God is a principle of creation (which included the distinction between the concepts of anthropological intentionality and metaphysical intentionality); and Conclusion. This paper concludes by affirming the two questions on timeless existence and the principle of creation.',\n",
       " 'embeds': None,\n",
       " 'media': None,\n",
       " 'link': 'https://rmrj.usjr.edu.ph/rmrj/index.php/RMRJ/article/view/986',\n",
       " 'partition_name': 'rmrj_articles'}"
      ]
     },
     "metadata": {},
     "output_type": "display_data"
    },
    {
     "data": {
      "text/plain": [
       "{'uuid': '111553fe-23fc-45e4-ad46-0c56b61aee0e',\n",
       " 'title': 'Timeless Existence and Principle of Creation: Notions Embedded in John 1:1, \"In the Beginning Was the Word\"',\n",
       " 'embeds': None,\n",
       " 'partition_name': 'rmrj_articles'}"
      ]
     },
     "metadata": {},
     "output_type": "display_data"
    },
    {
     "data": {
      "text/plain": [
       "{'uuid': '111553fe-23fc-45e4-ad46-0c56b61aee0e',\n",
       " 'author': 'Emiliano C. De Catalina',\n",
       " 'embeds': None,\n",
       " 'partition_name': 'rmrj_articles'}"
      ]
     },
     "metadata": {},
     "output_type": "display_data"
    },
    {
     "data": {
      "text/plain": [
       "{'uuid': '111553fe-23fc-45e4-ad46-0c56b61aee0e',\n",
       " 'date': '2022-05-25',\n",
       " 'embeds': None,\n",
       " 'partition_name': 'rmrj_articles'}"
      ]
     },
     "metadata": {},
     "output_type": "display_data"
    }
   ],
   "source": [
    "display(all_collections['text'][0])\n",
    "display(all_collections['title'][0])\n",
    "display(all_collections['author'][0])\n",
    "display(all_collections['date'][0])\n",
    "\n"
   ]
  },
  {
   "cell_type": "code",
   "execution_count": null,
   "id": "9f2e1765",
   "metadata": {},
   "outputs": [],
   "source": []
  }
 ],
 "metadata": {
  "kernelspec": {
   "display_name": "Python 3 (ipykernel)",
   "language": "python",
   "name": "python3"
  },
  "language_info": {
   "codemirror_mode": {
    "name": "ipython",
    "version": 3
   },
   "file_extension": ".py",
   "mimetype": "text/x-python",
   "name": "python",
   "nbconvert_exporter": "python",
   "pygments_lexer": "ipython3",
   "version": "3.11.4"
  }
 },
 "nbformat": 4,
 "nbformat_minor": 5
}
