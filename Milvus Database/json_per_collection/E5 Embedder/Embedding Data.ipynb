{
 "cells": [
  {
   "cell_type": "code",
   "execution_count": 75,
   "id": "d535edee",
   "metadata": {},
   "outputs": [],
   "source": [
    "import json\n",
    "import os\n",
    "folder_path = \"people\"  # Replace this with the actual path to your folder\n",
    "\n",
    "def load_json_files_into_dictionary(folder_path):\n",
    "    data_dict = {}\n",
    "    for filename in os.listdir(folder_path):\n",
    "        if filename.endswith(\".json\"):\n",
    "            file_path = os.path.join(folder_path, filename)\n",
    "            key = os.path.splitext(filename)[0]  # Exclude the \".json\" extension from the filename\n",
    "            with open(file_path, 'r') as file:\n",
    "                try:\n",
    "                    data = json.load(file)\n",
    "                    data_dict[key] = data\n",
    "                except json.JSONDecodeError:\n",
    "                    print(f\"Error: Failed to load JSON from file '{filename}'. Skipping this file.\")\n",
    "    return data_dict\n"
   ]
  },
  {
   "cell_type": "code",
   "execution_count": 76,
   "id": "01cc7ad4",
   "metadata": {},
   "outputs": [],
   "source": [
    "json_data_dict = load_json_files_into_dictionary(folder_path)"
   ]
  },
  {
   "cell_type": "code",
   "execution_count": 80,
   "id": "6713371e",
   "metadata": {},
   "outputs": [],
   "source": [
    "field_names = ['text','position', 'name']"
   ]
  },
  {
   "cell_type": "code",
   "execution_count": 81,
   "id": "5524995a",
   "metadata": {},
   "outputs": [],
   "source": [
    "for name in json_data_dict:\n",
    "    json_data_dict[name] = [item for item in json_data_dict[name] if not(any(fname in item and (item[fname] == ' ' or item[fname] == '') for fname in field_names))]\n",
    "    for item in json_data_dict[name]:\n",
    "        if 'embeds' in item:\n",
    "            del item['embeds']\n"
   ]
  },
  {
   "cell_type": "code",
   "execution_count": 86,
   "id": "f2ced104",
   "metadata": {},
   "outputs": [
    {
     "name": "stdout",
     "output_type": "stream",
     "text": [
      "{'text_id': 'a0b8241d-d9d2-461c-a9c2-dcdd56c1ab14', 'text': 'VP FOR ACADEMICS\\n\\nRev. Fr. Leo G. Alaras, OAR is a Batangueño who was ordained as a priest in 2010. He was first assigned as the Campus Ministry Office (CMO) Director in Colegio de San Nicholas de Tolentino-Recoletos (CSNTR) in Talisay City, Negros Occidental. He was later appointed as the treasurer and Property Administrator of the same school from 2011-2015.\\n\\nIn the same year, Fr. Alaras was transferred to Poblacion Valencia, Negros Oriental where he served as the School Director and High School Principal at the San Pedro Academy from 2015-2018. He was also the School Director at San Pedro Academy-Recoletos in Valencia, Negros Oriental.\\n\\nHe is a graduate of Bachelor of Arts in Classical Philosophy major in Languages at Casiciaco Recoletos Seminary in Baguio City. He also finished a bachelor’s degree in Theology at the University of Santo Thomas (UST) and Master of Arts in Theology in Recoletos School of Theology in Manila. On a lighter note, Fr. Alaras is also a composer. He started in 2001. So, he enrolled himself in the Conservatory of Music in UST, major in composition. Among his known compositions are Magnificat, Panginoon Tanggapin Mo, and his own version of Our Father.\\n\\nHe is also fond of playing basketball and table tennis, which according to him he only learned when he was in the seminary in Baguio back in 1998. “Actually, my trainer was Fr. Roy Baluarte…” he revealed. Fr. Alaras also said that he is a fan Harry Potter, Ant-Man, and Hachikō. As the new Vice President for Academics, Fr. Alaras envisions the university to become a research university and to be internationally recognized in addition to the school’s Recoletos Industrial and Technological Training Center (RITTC).\\n\\n“As the VP Acad, it’s more on strengthening more the academic culture of the university, which is actually manifested in the board passing performance of our graduates,” he added.\\n\\n \\n\\n[Words of Wisdom for Josenians]\\n“Do not count the skills. Do not count the awards. Do not count the titles that you have, but count the values that you have.”\\n\\nname: Rev. Fr. Leo G. Alaras, OAR, position: VICE PRESIDENT FOR ACADEMICS (VP FOR ACADEMICS)', 'link': ' ', 'media': 'https://usjr.edu.ph/wp-content/uploads/2018/08/Alcazar2-300x300.jpg', 'partition_name': 'people_partition', 'uuid': '9e3a330f-4ddb-48df-9272-023c10542741', 'embeds': 'text is VP FOR ACADEMICS\\n\\nRev. Fr. Leo G. Alaras, OAR is a Batangueño who was ordained as a priest in 2010. He was first assigned as the Campus Ministry Office (CMO) Director in Colegio de San Nicholas de Tolentino-Recoletos (CSNTR) in Talisay City, Negros Occidental. He was later appointed as the treasurer and Property Administrator of the same school from 2011-2015.\\n\\nIn the same year, Fr. Alaras was transferred to Poblacion Valencia, Negros Oriental where he served as the School Director and High School Principal at the San Pedro Academy from 2015-2018. He was also the School Director at San Pedro Academy-Recoletos in Valencia, Negros Oriental.\\n\\nHe is a graduate of Bachelor of Arts in Classical Philosophy major in Languages at Casiciaco Recoletos Seminary in Baguio City. He also finished a bachelor’s degree in Theology at the University of Santo Thomas (UST) and Master of Arts in Theology in Recoletos School of Theology in Manila. On a lighter note, Fr. Alaras is also a composer. He started in 2001. So, he enrolled himself in the Conservatory of Music in UST, major in composition. Among his known compositions are Magnificat, Panginoon Tanggapin Mo, and his own version of Our Father.\\n\\nHe is also fond of playing basketball and table tennis, which according to him he only learned when he was in the seminary in Baguio back in 1998. “Actually, my trainer was Fr. Roy Baluarte…” he revealed. Fr. Alaras also said that he is a fan Harry Potter, Ant-Man, and Hachikō. As the new Vice President for Academics, Fr. Alaras envisions the university to become a research university and to be internationally recognized in addition to the school’s Recoletos Industrial and Technological Training Center (RITTC).\\n\\n“As the VP Acad, it’s more on strengthening more the academic culture of the university, which is actually manifested in the board passing performance of our graduates,” he added.\\n\\n \\n\\n[Words of Wisdom for Josenians]\\n“Do not count the skills. Do not count the awards. Do not count the titles that you have, but count the values that you have.”\\n\\nname: Rev. Fr. Leo G. Alaras, OAR, position: VICE PRESIDENT FOR ACADEMICS (VP FOR ACADEMICS), link is  , media is https://usjr.edu.ph/wp-content/uploads/2018/08/Alcazar2-300x300.jpg'}\n",
      "\n",
      "\n",
      "{'uuid': 'a0b8241d-d9d2-461c-a9c2-dcdd56c1ab14', 'position': 'VICE PRESIDENT FOR ACADEMICS (VP FOR ACADEMICS)', 'partition_name': 'people_partition', 'embeds': 'position is VICE PRESIDENT FOR ACADEMICS (VP FOR ACADEMICS)'}\n",
      "\n",
      "\n",
      "{'uuid': 'a0b8241d-d9d2-461c-a9c2-dcdd56c1ab14', 'name': 'Rev. Fr. Leo G. Alaras, OAR', 'partition_name': 'people_partition', 'embeds': 'name is Rev. Fr. Leo G. Alaras, OAR'}\n",
      "\n",
      "\n"
     ]
    }
   ],
   "source": [
    "for name in json_data_dict:\n",
    "    print(json_data_dict[name][0])\n",
    "    print('\\n')"
   ]
  },
  {
   "cell_type": "code",
   "execution_count": 84,
   "id": "ae93a7ee",
   "metadata": {
    "scrolled": false
   },
   "outputs": [
    {
     "name": "stdout",
     "output_type": "stream",
     "text": [
      "text_id\n",
      "text\n",
      "link\n",
      "media\n",
      "partition_name\n",
      "uuid\n",
      "\n",
      "\n",
      "uuid\n",
      "position\n",
      "partition_name\n",
      "\n",
      "\n",
      "uuid\n",
      "name\n",
      "partition_name\n",
      "\n",
      "\n"
     ]
    }
   ],
   "source": [
    "for name in json_data_dict:\n",
    "    for att in json_data_dict[name][0]:\n",
    "        if att != 'embeds':\n",
    "            print(att)\n",
    "    print(\"\\n\")"
   ]
  },
  {
   "cell_type": "code",
   "execution_count": 85,
   "id": "1851283a",
   "metadata": {},
   "outputs": [],
   "source": [
    "import string\n",
    "\n",
    "for name in json_data_dict:\n",
    "    for item in json_data_dict[name]:\n",
    "        embeds = []\n",
    "        for field in item:\n",
    "            if field not in ['uuid', 'partition_name', 'text_id']:\n",
    "                embeds.append(f\"{field} is {item[field]}\")\n",
    "        item['embeds'] = ', '.join(embeds)\n"
   ]
  },
  {
   "cell_type": "code",
   "execution_count": 87,
   "id": "f635f623",
   "metadata": {},
   "outputs": [],
   "source": [
    "import torch.nn.functional as F\n",
    "from torch import Tensor\n",
    "from transformers import AutoTokenizer, AutoModel\n",
    "\n",
    "def average_pool(last_hidden_states: Tensor, attention_mask: Tensor) -> Tensor:\n",
    "    last_hidden = last_hidden_states.masked_fill(~attention_mask[..., None].bool(), 0.0)\n",
    "    return last_hidden.sum(dim=1) / attention_mask.sum(dim=1)[..., None]\n",
    "\n",
    "def embed_string(text: str):\n",
    "    # Load the tokenizer and model\n",
    "    tokenizer = AutoTokenizer.from_pretrained('intfloat/e5-large-v2')\n",
    "    model = AutoModel.from_pretrained('intfloat/e5-large-v2')\n",
    "\n",
    "    # Prefix the text with 'query: '\n",
    "    text = 'query: ' + text\n",
    "\n",
    "    # Tokenize the input text\n",
    "    inputs = tokenizer(text, max_length=512, padding=True, truncation=True, return_tensors='pt')\n",
    "\n",
    "    # Generate model outputs\n",
    "    outputs = model(**inputs)\n",
    "\n",
    "    # Average pool the last hidden states and apply the attention mask\n",
    "    embeddings = average_pool(outputs.last_hidden_state, inputs['attention_mask'])\n",
    "\n",
    "    # Normalize the embeddings\n",
    "    embeddings = F.normalize(embeddings, p=2, dim=1)\n",
    "\n",
    "    # Convert tensor to list\n",
    "    embeddings_list = embeddings.tolist()\n",
    "\n",
    "    return embeddings_list[0]\n"
   ]
  },
  {
   "cell_type": "code",
   "execution_count": 88,
   "id": "c9f3a38b",
   "metadata": {},
   "outputs": [
    {
     "name": "stderr",
     "output_type": "stream",
     "text": [
      "100%|█████████████████████████████████████████████| 6/6 [00:23<00:00,  3.97s/it]\n",
      "100%|█████████████████████████████████████████████| 6/6 [00:18<00:00,  3.09s/it]\n",
      "100%|█████████████████████████████████████████████| 6/6 [00:17<00:00,  2.96s/it]\n"
     ]
    }
   ],
   "source": [
    "from tqdm import tqdm\n",
    "\n",
    "for name in json_data_dict:\n",
    "    for item in tqdm(json_data_dict[name]):\n",
    "        item['embeds'] = embed_string(item['embeds'].lower())"
   ]
  },
  {
   "cell_type": "code",
   "execution_count": null,
   "id": "95422ddc",
   "metadata": {},
   "outputs": [],
   "source": [
    "# for name in json_data_dict:\n",
    "# #     print(name, json_data_dict[name][0]['embeds'])\n",
    "#     print(\"\\n\")"
   ]
  },
  {
   "cell_type": "code",
   "execution_count": 77,
   "id": "de1bc560",
   "metadata": {},
   "outputs": [],
   "source": [
    "for name in json_data_dict:\n",
    "    for item in json_data_dict[name]:\n",
    "        item['embeds'] = item['embeds'][0]"
   ]
  },
  {
   "cell_type": "code",
   "execution_count": 89,
   "id": "953a417f",
   "metadata": {},
   "outputs": [],
   "source": [
    "def update_and_save_json_files(folder_path):\n",
    "    for name in json_data_dict:\n",
    "        file_path = os.path.join(folder_path, f\"{name}.json\")\n",
    "        with open(file_path, 'w') as file:\n",
    "            json.dump(json_data_dict[name], file)\n",
    "\n",
    "# Call the function to update and save the JSON files\n",
    "update_and_save_json_files(folder_path)"
   ]
  },
  {
   "cell_type": "code",
   "execution_count": null,
   "id": "d3da3018",
   "metadata": {},
   "outputs": [],
   "source": []
  },
  {
   "cell_type": "code",
   "execution_count": null,
   "id": "7c7703d6",
   "metadata": {},
   "outputs": [],
   "source": []
  },
  {
   "cell_type": "code",
   "execution_count": null,
   "id": "8a1cab0e",
   "metadata": {},
   "outputs": [],
   "source": []
  },
  {
   "cell_type": "code",
   "execution_count": null,
   "id": "2163dcd9",
   "metadata": {},
   "outputs": [],
   "source": []
  }
 ],
 "metadata": {
  "kernelspec": {
   "display_name": "Python 3 (ipykernel)",
   "language": "python",
   "name": "python3"
  },
  "language_info": {
   "codemirror_mode": {
    "name": "ipython",
    "version": 3
   },
   "file_extension": ".py",
   "mimetype": "text/x-python",
   "name": "python",
   "nbconvert_exporter": "python",
   "pygments_lexer": "ipython3",
   "version": "3.11.4"
  }
 },
 "nbformat": 4,
 "nbformat_minor": 5
}
