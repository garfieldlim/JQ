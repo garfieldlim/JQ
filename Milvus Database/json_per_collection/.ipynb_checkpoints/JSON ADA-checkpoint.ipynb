{
 "cells": [
  {
   "cell_type": "code",
   "execution_count": 52,
   "id": "8ca066fa",
   "metadata": {},
   "outputs": [],
   "source": [
    "import os\n",
    "import json\n",
    "\n",
    "# A dictionary to store all collections\n",
    "collections = {}\n",
    "\n",
    "# The directory where the files are stored\n",
    "directory = 'json_per_collection'\n",
    "\n",
    "# Loop over all files in the directory\n",
    "for filename in os.listdir(directory):\n",
    "    if filename.endswith('.json'):\n",
    "        # Extract the collection name from the filename\n",
    "        collection_name = filename.split('_partition_')[1].split('_collection')[0]\n",
    "        \n",
    "        # Load the file\n",
    "        with open(os.path.join(directory, filename)) as file:\n",
    "            data = json.load(file)\n",
    "            \n",
    "        # Append the data to the corresponding collection\n",
    "        if collection_name in collections:\n",
    "            collections[collection_name].extend(data)\n",
    "        else:\n",
    "            collections[collection_name] = data\n"
   ]
  },
  {
   "cell_type": "code",
   "execution_count": 70,
   "id": "8c757c3d",
   "metadata": {},
   "outputs": [
    {
     "data": {
      "text/plain": [
       "{'uuid': '6281ce43-1b00-40d4-b9d5-8fc8892c09ef',\n",
       " 'author': 'Joje Mar P. Sanchez',\n",
       " 'embeds': 'author: joje mar p. sanchez',\n",
       " 'partition_name': 'documents_partition'}"
      ]
     },
     "execution_count": 70,
     "metadata": {},
     "output_type": "execute_result"
    }
   ],
   "source": [
    "collections['author'][20]"
   ]
  },
  {
   "cell_type": "code",
   "execution_count": 71,
   "id": "254c779f",
   "metadata": {},
   "outputs": [],
   "source": [
    "partition_names = ['documents_partitions', 'social_posts_partition', 'people_partition']"
   ]
  },
  {
   "cell_type": "code",
   "execution_count": null,
   "id": "2c7feace",
   "metadata": {},
   "outputs": [],
   "source": [
    "for name in collections:\n",
    "    partitions_obj = {}\n",
    "    for item in collections[name]:\n",
    "        for pname in partition_names:\n",
    "            partitions_obj[pname].append(item)\n",
    "save f\"{partition_name}_{name}_collection.json\"\n",
    "            \n",
    "        "
   ]
  },
  {
   "cell_type": "code",
   "execution_count": 54,
   "id": "f928fd13",
   "metadata": {},
   "outputs": [],
   "source": [
    "import string\n",
    "\n",
    "for name in collections:\n",
    "    for item in collections[name]:\n",
    "        no_punctuation = item['embeds'].lower()\n",
    "        item['embeds'] = no_punctuation\n"
   ]
  },
  {
   "cell_type": "code",
   "execution_count": null,
   "id": "a8150dd7",
   "metadata": {},
   "outputs": [],
   "source": []
  },
  {
   "cell_type": "code",
   "execution_count": null,
   "id": "1b91bb81",
   "metadata": {},
   "outputs": [],
   "source": [
    "partition_names = ['documents_partitions', 'social_posts_partition', 'people_partition']"
   ]
  },
  {
   "cell_type": "code",
   "execution_count": null,
   "id": "d05db754",
   "metadata": {},
   "outputs": [],
   "source": [
    "for name in collections:\n",
    "    for part\n",
    "        "
   ]
  },
  {
   "cell_type": "code",
   "execution_count": 53,
   "id": "c108b770",
   "metadata": {},
   "outputs": [],
   "source": [
    "import string\n",
    "for name in collections:\n",
    "    for item in collections[name]:\n",
    "        embeds = []\n",
    "        for attribute in item:\n",
    "            if attribute != 'embeds' and attribute != 'partition_name' and attribute != 'uuid' and attribute != 'text_id' and attribute != 'link' and attribute != 'media':\n",
    "                embeds.append(f\"{attribute}: {item[attribute]}\")\n",
    "        item['embeds'] = ', '.join(embeds)\n"
   ]
  },
  {
   "cell_type": "code",
   "execution_count": 22,
   "id": "53b06717",
   "metadata": {},
   "outputs": [
    {
     "data": {
      "text/plain": [
       "{'uuid': 'fc59b61a-4823-42ce-b740-360e7f564c6a',\n",
       " 'name': 'Rev. Fr. Domingo E. Saladaga',\n",
       " 'partition_name': 'people_partition'}"
      ]
     },
     "execution_count": 22,
     "metadata": {},
     "output_type": "execute_result"
    }
   ],
   "source": [
    "colle"
   ]
  },
  {
   "cell_type": "code",
   "execution_count": null,
   "id": "1477a4d7",
   "metadata": {},
   "outputs": [],
   "source": []
  }
 ],
 "metadata": {
  "kernelspec": {
   "display_name": "Python 3 (ipykernel)",
   "language": "python",
   "name": "python3"
  },
  "language_info": {
   "codemirror_mode": {
    "name": "ipython",
    "version": 3
   },
   "file_extension": ".py",
   "mimetype": "text/x-python",
   "name": "python",
   "nbconvert_exporter": "python",
   "pygments_lexer": "ipython3",
   "version": "3.11.4"
  }
 },
 "nbformat": 4,
 "nbformat_minor": 5
}
