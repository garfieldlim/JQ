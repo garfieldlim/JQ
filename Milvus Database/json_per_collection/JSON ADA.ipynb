{
 "cells": [
  {
   "cell_type": "code",
   "execution_count": 81,
   "id": "4dd6a55b",
   "metadata": {},
   "outputs": [],
   "source": [
    "import os\n",
    "import json\n",
    "\n",
    "# A dictionary to store all collections\n",
    "collections = {}\n",
    "\n",
    "# The directory where the files are stored\n",
    "directory = 'json_per_collection'\n",
    "\n",
    "# Loop over all files in the directory\n",
    "for filename in os.listdir(directory):\n",
    "    if filename.endswith('.json'):\n",
    "        # Extract the collection name from the filename\n",
    "        collection_name = filename.split('_partition_')[1].split('_collection')[0]\n",
    "        \n",
    "        # Load the file\n",
    "        with open(os.path.join(directory, filename)) as file:\n",
    "            data = json.load(file)\n",
    "            \n",
    "        # Append the data to the corresponding collection\n",
    "        if collection_name in collections:\n",
    "            collections[collection_name].extend(data)\n",
    "        else:\n",
    "            collections[collection_name] = data\n"
   ]
  },
  {
   "cell_type": "code",
   "execution_count": 86,
   "id": "81343f9c",
   "metadata": {},
   "outputs": [
    {
     "data": {
      "text/plain": [
       "{'text_id': 'a8df567b-ab68-4599-9bbb-33899f7aa9b7',\n",
       " 'text': 'The names and email addresses entered in this journal site will be used exclusively for the stated purposes of this journal and will not be made available for any other purpose or to any other party.',\n",
       " 'link': ' ',\n",
       " 'media': ' ',\n",
       " 'embeds': 'text: the names and email addresses entered in this journal site will be used exclusively for the stated purposes of this journal and will not be made available for any other purpose or to any other party.',\n",
       " 'partition_name': 'documents_partition',\n",
       " 'uuid': 'd65ada3e-ea06-4bdb-97a0-e5ff976d617d'}"
      ]
     },
     "execution_count": 86,
     "metadata": {},
     "output_type": "execute_result"
    }
   ],
   "source": [
    "collections['text'][20]"
   ]
  },
  {
   "cell_type": "code",
   "execution_count": 90,
   "id": "9de894a9",
   "metadata": {},
   "outputs": [],
   "source": [
    "partition_names = ['documents_partition', 'social_posts_partition', 'people_partition']"
   ]
  },
  {
   "cell_type": "code",
   "execution_count": 91,
   "id": "71c9d4e3",
   "metadata": {},
   "outputs": [
    {
     "ename": "SyntaxError",
     "evalue": "invalid syntax (99856305.py, line 6)",
     "output_type": "error",
     "traceback": [
      "\u001b[0;36m  Cell \u001b[0;32mIn[91], line 6\u001b[0;36m\u001b[0m\n\u001b[0;31m    save f\"{partition_name}_{name}_collection.json\"\u001b[0m\n\u001b[0m         ^\u001b[0m\n\u001b[0;31mSyntaxError\u001b[0m\u001b[0;31m:\u001b[0m invalid syntax\n"
     ]
    }
   ],
   "source": [
    "for name in collections:\n",
    "    partitions_obj = {}\n",
    "    for item in collections[name]:\n",
    "        for pname in partition_names:\n",
    "            partitions_obj[pname].append(item)\n",
    "save f\"{partition_name}_{name}_collection.json\"\n",
    "            \n",
    "        "
   ]
  },
  {
   "cell_type": "code",
   "execution_count": 92,
   "id": "efebbba5",
   "metadata": {},
   "outputs": [
    {
     "name": "stdout",
     "output_type": "stream",
     "text": [
      "title\n",
      "position\n",
      "text\n",
      "date\n",
      "author\n",
      "name\n"
     ]
    }
   ],
   "source": [
    "for name in collections:\n",
    "    print(name)"
   ]
  },
  {
   "cell_type": "code",
   "execution_count": null,
   "id": "a9a8d9f6",
   "metadata": {},
   "outputs": [],
   "source": [
    "obj"
   ]
  },
  {
   "cell_type": "code",
   "execution_count": 100,
   "id": "8150e895",
   "metadata": {
    "scrolled": true
   },
   "outputs": [
    {
     "name": "stdout",
     "output_type": "stream",
     "text": [
      "title\n",
      "position\n",
      "date\n",
      "author\n",
      "name\n"
     ]
    }
   ],
   "source": [
    "import pandas as pd\n",
    "import json\n",
    "\n",
    "for name in collections:\n",
    "    if name == 'text':\n",
    "        continue\n",
    "    print(name)\n",
    "    partitions_obj = {}\n",
    "    for pname in partition_names:\n",
    "        partitions_obj[pname] = []\n",
    "    for item in collections[name]:\n",
    "        for pname in partition_names:\n",
    "            item['embeds']=embed_text(item['embeds']).tolist()\n",
    "            partitions_obj[pname].append(item)\n",
    "    for pname in partition_names:\n",
    "        if name == 'text':\n",
    "            print(\"HEY!\")\n",
    "        with open(f\"{pname}_{name}_collection.json\", 'w') as f:\n",
    "            json.dump(partitions_obj[pname], f)\n"
   ]
  },
  {
   "cell_type": "code",
   "execution_count": 98,
   "id": "59e07750",
   "metadata": {},
   "outputs": [
    {
     "data": {
      "text/html": [
       "<div>\n",
       "<style scoped>\n",
       "    .dataframe tbody tr th:only-of-type {\n",
       "        vertical-align: middle;\n",
       "    }\n",
       "\n",
       "    .dataframe tbody tr th {\n",
       "        vertical-align: top;\n",
       "    }\n",
       "\n",
       "    .dataframe thead th {\n",
       "        text-align: right;\n",
       "    }\n",
       "</style>\n",
       "<table border=\"1\" class=\"dataframe\">\n",
       "  <thead>\n",
       "    <tr style=\"text-align: right;\">\n",
       "      <th></th>\n",
       "      <th>uuid</th>\n",
       "      <th>name</th>\n",
       "      <th>embeds</th>\n",
       "      <th>partition_name</th>\n",
       "    </tr>\n",
       "  </thead>\n",
       "  <tbody>\n",
       "    <tr>\n",
       "      <th>0</th>\n",
       "      <td>a0b8241d-d9d2-461c-a9c2-dcdd56c1ab14</td>\n",
       "      <td>Rev. Fr. Leo G. Alaras, OAR</td>\n",
       "      <td>[-0.03748416155576706, -0.03151121735572815, -...</td>\n",
       "      <td>people_partition</td>\n",
       "    </tr>\n",
       "    <tr>\n",
       "      <th>1</th>\n",
       "      <td>4ac0ab0f-ef2a-4ce9-80ac-dc8a8410378f</td>\n",
       "      <td>Rev. Fr. Rouel M. Sia, OAR</td>\n",
       "      <td>[-0.03530552238225937, -0.03163579851388931, -...</td>\n",
       "      <td>people_partition</td>\n",
       "    </tr>\n",
       "    <tr>\n",
       "      <th>2</th>\n",
       "      <td>c56175f1-c0dc-4ab3-b6dd-44b8814fba7a</td>\n",
       "      <td>Rev. Fr. Leopoldo V. Estioko, OAR</td>\n",
       "      <td>[-0.03582020848989487, -0.033176034688949585, ...</td>\n",
       "      <td>people_partition</td>\n",
       "    </tr>\n",
       "    <tr>\n",
       "      <th>3</th>\n",
       "      <td>0fd4683a-92de-4444-b67c-961d628ab659</td>\n",
       "      <td>Rev. Fr. Roy Baluarte, OAR</td>\n",
       "      <td>[-0.033405303955078125, -0.03453752398490906, ...</td>\n",
       "      <td>people_partition</td>\n",
       "    </tr>\n",
       "    <tr>\n",
       "      <th>4</th>\n",
       "      <td>7dbf1f5e-9bd8-4d07-a5d3-1c810ea6b688</td>\n",
       "      <td>Rev. Fr. Arian Josef Ocheda, OAR</td>\n",
       "      <td>[-0.0359184667468071, -0.033350925892591476, -...</td>\n",
       "      <td>people_partition</td>\n",
       "    </tr>\n",
       "    <tr>\n",
       "      <th>5</th>\n",
       "      <td>fc59b61a-4823-42ce-b740-360e7f564c6a</td>\n",
       "      <td>Rev. Fr. Domingo E. Saladaga</td>\n",
       "      <td>[-0.036687321960926056, -0.03542031720280647, ...</td>\n",
       "      <td>people_partition</td>\n",
       "    </tr>\n",
       "  </tbody>\n",
       "</table>\n",
       "</div>"
      ],
      "text/plain": [
       "                                   uuid                               name  \\\n",
       "0  a0b8241d-d9d2-461c-a9c2-dcdd56c1ab14        Rev. Fr. Leo G. Alaras, OAR   \n",
       "1  4ac0ab0f-ef2a-4ce9-80ac-dc8a8410378f         Rev. Fr. Rouel M. Sia, OAR   \n",
       "2  c56175f1-c0dc-4ab3-b6dd-44b8814fba7a  Rev. Fr. Leopoldo V. Estioko, OAR   \n",
       "3  0fd4683a-92de-4444-b67c-961d628ab659         Rev. Fr. Roy Baluarte, OAR   \n",
       "4  7dbf1f5e-9bd8-4d07-a5d3-1c810ea6b688   Rev. Fr. Arian Josef Ocheda, OAR   \n",
       "5  fc59b61a-4823-42ce-b740-360e7f564c6a       Rev. Fr. Domingo E. Saladaga   \n",
       "\n",
       "                                              embeds    partition_name  \n",
       "0  [-0.03748416155576706, -0.03151121735572815, -...  people_partition  \n",
       "1  [-0.03530552238225937, -0.03163579851388931, -...  people_partition  \n",
       "2  [-0.03582020848989487, -0.033176034688949585, ...  people_partition  \n",
       "3  [-0.033405303955078125, -0.03453752398490906, ...  people_partition  \n",
       "4  [-0.0359184667468071, -0.033350925892591476, -...  people_partition  \n",
       "5  [-0.036687321960926056, -0.03542031720280647, ...  people_partition  "
      ]
     },
     "execution_count": 98,
     "metadata": {},
     "output_type": "execute_result"
    }
   ],
   "source": [
    "df"
   ]
  },
  {
   "cell_type": "code",
   "execution_count": 84,
   "id": "288683f2",
   "metadata": {},
   "outputs": [],
   "source": [
    "import string\n",
    "\n",
    "for name in collections:\n",
    "    for item in collections[name]:\n",
    "        no_punctuation = item['embeds'].lower()\n",
    "        item['embeds'] = no_punctuation\n"
   ]
  },
  {
   "cell_type": "code",
   "execution_count": 95,
   "id": "ca6201fa",
   "metadata": {},
   "outputs": [
    {
     "name": "stderr",
     "output_type": "stream",
     "text": [
      "Warning : `load_model` does not return WordVectorModel or SupervisedModel any more, but a `FastText` object which is very similar.\n"
     ]
    }
   ],
   "source": [
    "import fasttext\n",
    "\n",
    "# Path to the downloaded pre-trained model file\n",
    "model_path = '/Users/garfieldgreglim/Library/Mobile Documents/com~apple~CloudDocs/Josenian-Query/Embedder/crawl-300d-2M-subword.bin'\n",
    "\n",
    "# Load the pre-trained model\n",
    "model = fasttext.load_model(model_path)\n",
    "\n",
    "# Function to embed text using the fasttext model\n",
    "def embed_text(text):\n",
    "    text = str(text)  # ensures that the text is a string\n",
    "    text = text.replace('\\n', ' ') # replace newline characters with a space\n",
    "    return model.get_sentence_vector(text)\n"
   ]
  },
  {
   "cell_type": "code",
   "execution_count": null,
   "id": "6c794b13",
   "metadata": {},
   "outputs": [],
   "source": [
    "for name in collections:\n",
    "    for"
   ]
  },
  {
   "cell_type": "code",
   "execution_count": null,
   "id": "c13a4953",
   "metadata": {},
   "outputs": [],
   "source": [
    "partition_names = ['documents_partitions', 'social_posts_partition', 'people_partition']"
   ]
  },
  {
   "cell_type": "code",
   "execution_count": null,
   "id": "ea2c4419",
   "metadata": {},
   "outputs": [],
   "source": [
    "for name in collections:\n",
    "    for part\n",
    "        "
   ]
  },
  {
   "cell_type": "code",
   "execution_count": 83,
   "id": "7ed4da18",
   "metadata": {},
   "outputs": [],
   "source": [
    "import string\n",
    "for name in collections:\n",
    "    for item in collections[name]:\n",
    "        embeds = []\n",
    "        for attribute in item:\n",
    "            if attribute != 'embeds' and attribute != 'partition_name' and attribute != 'uuid' and attribute != 'text_id' and attribute != 'link' and attribute != 'media':\n",
    "                embeds.append(f\"{attribute}: {item[attribute]}\")\n",
    "        item['embeds'] = ', '.join(embeds)\n"
   ]
  },
  {
   "cell_type": "code",
   "execution_count": 22,
   "id": "c4dc1ff5",
   "metadata": {},
   "outputs": [
    {
     "data": {
      "text/plain": [
       "{'uuid': 'fc59b61a-4823-42ce-b740-360e7f564c6a',\n",
       " 'name': 'Rev. Fr. Domingo E. Saladaga',\n",
       " 'partition_name': 'people_partition'}"
      ]
     },
     "execution_count": 22,
     "metadata": {},
     "output_type": "execute_result"
    }
   ],
   "source": [
    "colle"
   ]
  },
  {
   "cell_type": "code",
   "execution_count": null,
   "id": "af8e0a38",
   "metadata": {},
   "outputs": [],
   "source": []
  }
 ],
 "metadata": {
  "kernelspec": {
   "display_name": "Python 3 (ipykernel)",
   "language": "python",
   "name": "python3"
  },
  "language_info": {
   "codemirror_mode": {
    "name": "ipython",
    "version": 3
   },
   "file_extension": ".py",
   "mimetype": "text/x-python",
   "name": "python",
   "nbconvert_exporter": "python",
   "pygments_lexer": "ipython3",
   "version": "3.11.4"
  }
 },
 "nbformat": 4,
 "nbformat_minor": 5
}
