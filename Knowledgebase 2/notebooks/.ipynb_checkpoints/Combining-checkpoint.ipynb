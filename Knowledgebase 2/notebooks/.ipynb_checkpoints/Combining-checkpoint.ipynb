{
 "cells": [
  {
   "cell_type": "code",
   "execution_count": 5,
   "id": "d50b9f38",
   "metadata": {
    "scrolled": true
   },
   "outputs": [
    {
     "name": "stdout",
     "output_type": "stream",
     "text": [
      "Combined files into Copy of RED TRIDENT GAMES.txt\n",
      "Combined files into Copy of 7-10-23 (2).txt\n",
      "Combined files into Copy of 7-10-23.txt\n",
      "Combined files into Copy of full scale.txt\n",
      "Combined files into Copy of ARIELUS SOFTWARE.txt\n"
     ]
    }
   ],
   "source": [
    "import os\n",
    "import re\n",
    "from collections import defaultdict\n",
    "\n",
    "directory = \"/Users/garfieldgreglim/Documents/JQ/Knowledgebase 2/final_classified_txts/relevant\"\n",
    "combined_files_dir = \"/Users/garfieldgreglim/Documents/JQ/Knowledgebase 2/final_classified_txts/combined_related_txts\"  # Specify your directory for combined files\n",
    "\n",
    "if not os.path.exists(combined_files_dir):\n",
    "    os.makedirs(combined_files_dir)\n",
    "\n",
    "# Function to extract base name\n",
    "def extract_base_name(filename):\n",
    "    # Handle specific patterns\n",
    "    match = re.search(r\"(Copy of .+?)( \\d+|\\b\\d+\\b|\\s+\\d+-\\d+|\\s+\\(\\d+\\))\\.txt$\", filename)\n",
    "    if match:\n",
    "        return match.group(1)\n",
    "    return filename\n",
    "\n",
    "# Group files by base name\n",
    "file_groups = defaultdict(list)\n",
    "for filename in os.listdir(directory):\n",
    "    if filename.endswith(\".txt\"):\n",
    "        base_name = extract_base_name(filename)\n",
    "        file_groups[base_name].append(filename)\n",
    "\n",
    "# Combine files in each group\n",
    "for base_name, files in file_groups.items():\n",
    "    if len(files) > 1:  # Only combine if there are multiple files\n",
    "        with open(os.path.join(combined_files_dir, f\"{base_name}.txt\"), 'w', encoding='utf-8') as outfile:\n",
    "            for file in sorted(files):\n",
    "                with open(os.path.join(directory, file), 'r', encoding='utf-8') as infile:\n",
    "                    outfile.write(infile.read() + \"\\n\")\n",
    "            print(f\"Combined files into {base_name}.txt\")"
   ]
  },
  {
   "cell_type": "code",
   "execution_count": null,
   "id": "2da6c0a5",
   "metadata": {},
   "outputs": [],
   "source": [
    "import os\n",
    "import re\n",
    "from collections import defaultdict\n",
    "\n",
    "directory = \"/Users/garfieldgreglim/Documents/JQ/Knowledgebase 2/final_classified_txts/relevant\"\n",
    "combined_files_dir = \"/path/to/combined/files\"  # Specify your directory for combined files\n",
    "\n",
    "if not os.path.exists(combined_files_dir):\n",
    "    os.makedirs(combined_files_dir)\n",
    "\n",
    "# Function to extract base name\n",
    "def extract_base_name(filename):\n",
    "    # Customized patterns based on provided file names\n",
    "    patterns = {\n",
    "    'Copy of EY': r'Copy of EY\\d+\\.txt$',\n",
    "    'Copy of full scale': r'Copy of full scale \\d+\\.txt$',\n",
    "    'Copy of [Date]': r'Copy of \\d+-\\d+-\\d+ .*\\.txt$',\n",
    "    'Copy of [Date Short Year]': r'Copy of \\d+-\\d+-\\d+ .*\\.txt$',\n",
    "    'Copy of [Specific Series]': r'Copy of .+?\\d{4}\\d+\\.txt$',\n",
    "    'Copy of [General]': r'Copy of .*\\.txt$',\n",
    "    # Add more specific patterns for other groups of files\n",
    "}\n",
    "\n",
    "    \n",
    "    for pattern in patterns:\n",
    "        match = re.search(pattern, filename)\n",
    "        if match:\n",
    "            return match.group(1)\n",
    "    return filename\n",
    "\n",
    "# Group files by base name\n",
    "file_groups = defaultdict(list)\n",
    "for filename in os.listdir(directory):\n",
    "    if filename.endswith(\".txt\"):\n",
    "        base_name = extract_base_name(filename)\n",
    "        file_groups[base_name].append(filename)\n",
    "\n",
    "# Combine files in each group\n",
    "for base_name, files in file_groups.items():\n",
    "    if len(files) > 1:  # Only combine if there are multiple files\n",
    "        with open(os.path.join(combined_files_dir, f\"{base_name}.txt\"), 'w', encoding='utf-8') as outfile:\n",
    "            for file in sorted(files):\n",
    "                with open(os.path.join(directory, file), 'r', encoding='utf-8') as infile:\n",
    "                    outfile.write(infile.read() + \"\\n\")\n",
    "            print(f\"Combined files into {base_name}.txt\")\n"
   ]
  }
 ],
 "metadata": {
  "kernelspec": {
   "display_name": "Python 3 (ipykernel)",
   "language": "python",
   "name": "python3"
  },
  "language_info": {
   "codemirror_mode": {
    "name": "ipython",
    "version": 3
   },
   "file_extension": ".py",
   "mimetype": "text/x-python",
   "name": "python",
   "nbconvert_exporter": "python",
   "pygments_lexer": "ipython3",
   "version": "3.11.4"
  }
 },
 "nbformat": 4,
 "nbformat_minor": 5
}
