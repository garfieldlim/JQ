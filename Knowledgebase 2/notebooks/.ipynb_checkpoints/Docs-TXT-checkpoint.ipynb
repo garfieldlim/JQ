{
 "cells": [
  {
   "cell_type": "code",
   "execution_count": 2,
   "id": "b78eee7a",
   "metadata": {},
   "outputs": [
    {
     "name": "stdout",
     "output_type": "stream",
     "text": [
      "Processed Copy of 8-17-20 memo appts college.docx\n",
      "Processed Copy of 8-7-20 memo density.docx\n",
      "Processed Copy of 8-7-20 memo nomenclature.docx\n",
      "Processed Copy of 5-30-20 Work-From-Home-Policy Final Version 2-Signed.docx\n",
      "Processed Copy of 6-18-20 DataConnectivity.docx\n",
      "Processed Copy of 10-27-20  memo nov 1.docx\n",
      "Processed Copy of 5-30-20 CE.docx\n",
      "Processed Copy of 8-7-20 memo appts lay.docx\n",
      "Processed Copy of 6-8-20 Re-entry of personnel and READS and Entry of Vistors June 2020-signed.docx\n",
      "Processed Copy of 11-9-20  PAO POLICY1.docx\n",
      "Processed Copy of 8-26-20 memo pakighimamat2020.docx\n",
      "Processed Copy of 8-13-20 memo appts addtl.docx\n",
      "Processed Copy of 8-15-20 memo DPC.docx\n",
      "Processed Copy of 6-8-20 Guidelines on re=entry.docx\n",
      "Processed Copy of 6-1-20 cover-memo-The-Virtual-USJ-R - SIGNED.docx\n",
      "Processed Copy of 6-8-20 Guidelines visitors.docx\n",
      "Processed Copy of 5-30-20 enrol 2020-21.docx\n",
      "Processed Copy of 8-3-20 Contingency-Plan Aug,2020.docx\n",
      "Processed Copy of 10-27-20 Memo WFH Saturday.docx\n",
      "Processed Copy of 9-1-20 memo HolySpirit 2020.docx\n",
      "Processed Copy of 6-8-20 Adjusment of Lunch Break.docx\n",
      "Processed Copy of 8-10-20 memo terminology.docx\n",
      "Processed Copy of 8-3-20 memo CAL needs analysis.docx\n",
      "Processed Copy of MALABANAN, OLIVER (Compressed Resume).docx\n",
      "Processed Copy of 8-3-20 LOG.docx\n",
      "Processed Copy of 5-21-20 University_s ECQ Guidlines.docx\n",
      "Processed Copy of 6-18-20 memo policy laptop dta allow.docx\n",
      "Processed Copy of 8-3-20 GCQ Guidelines Aug2020.docx\n",
      "Processed Copy of 6-2-20 Memo_GCQ Guidelines.docx\n",
      "Processed Copy of 6-18-20 LaptopLoanPolicy.docx\n",
      "Processed Copy of 6-1-20 The-Virtual-USJ-R (1).docx\n",
      "Processed Copy of acceptance.docx\n",
      "Processed Copy of 7-6-20 memo LMS.docx\n",
      "Processed Copy of 9-7-20 MGCQ Guidelines September 2020.docx\n",
      "Processed Copy of FULL SCALE.docx\n",
      "Processed Copy of TALLECO MOA.docx\n"
     ]
    }
   ],
   "source": [
    "import os\n",
    "from docx import Document\n",
    "\n",
    "def save_docx_as_text(source_dir, target_dir):\n",
    "    if not os.path.exists(source_dir):\n",
    "        print(\"Source directory does not exist.\")\n",
    "        return\n",
    "\n",
    "    if not os.path.exists(target_dir):\n",
    "        os.makedirs(target_dir)\n",
    "\n",
    "    for filename in os.listdir(source_dir):\n",
    "        if filename.endswith(\".docx\"):\n",
    "            file_path = os.path.join(source_dir, filename)\n",
    "            doc = Document(file_path)\n",
    "\n",
    "            # Extracting text from each paragraph in the document\n",
    "            full_text = []\n",
    "            for para in doc.paragraphs:\n",
    "                full_text.append(para.text)\n",
    "\n",
    "            text_content = '\\n'.join(full_text)\n",
    "            target_file_path = os.path.join(target_dir, os.path.splitext(filename)[0] + \".txt\")\n",
    "\n",
    "            with open(target_file_path, \"w\", encoding=\"utf-8\") as text_file:\n",
    "                text_file.write(text_content)\n",
    "            print(f\"Processed {filename}\")\n",
    "\n",
    "source_directory = \"/Users/garfieldgreglim/Documents/JQ/Knowledgebase 2/docs\"\n",
    "target_directory = \"/Users/garfieldgreglim/Documents/JQ/Knowledgebase 2/docs_txt\"\n",
    "\n",
    "save_docx_as_text(source_directory, target_directory)\n"
   ]
  },
  {
   "cell_type": "code",
   "execution_count": null,
   "id": "3ebcfe6f",
   "metadata": {},
   "outputs": [],
   "source": []
  }
 ],
 "metadata": {
  "kernelspec": {
   "display_name": "Python 3 (ipykernel)",
   "language": "python",
   "name": "python3"
  },
  "language_info": {
   "codemirror_mode": {
    "name": "ipython",
    "version": 3
   },
   "file_extension": ".py",
   "mimetype": "text/x-python",
   "name": "python",
   "nbconvert_exporter": "python",
   "pygments_lexer": "ipython3",
   "version": "3.11.4"
  }
 },
 "nbformat": 4,
 "nbformat_minor": 5
}
